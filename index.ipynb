{
  "cells": [
    {
      "cell_type": "raw",
      "metadata": {},
      "source": [
        "---\n",
        "title: \"HW-5\"\n",
        "---"
      ],
      "id": "942ce1d8"
    },
    {
      "cell_type": "code",
      "metadata": {},
      "source": [
        "## Quarto\n",
        "# Part 1\n",
        "data_part1 = [82, 66, 70, 59, 90, 78, 76, 95, 99, 84, 88, 76, 82, 81, 91, 64, 79, 76, 85, 90]\n",
        "\n",
        "# Mean\n",
        "mean_part1 = sum(data_part1) / len(data_part1)\n",
        "\n",
        "# Median\n",
        "sorted_data_part1 = sorted(data_part1)\n",
        "n = len(sorted_data_part1)\n",
        "median_part1 = (sorted_data_part1[n // 2] + sorted_data_part1[(n - 1) // 2]) / 2\n",
        "\n",
        "# Mode\n",
        "from collections import Counter\n",
        "counter = Counter(data_part1)\n",
        "mode_part1 = [k for k, v in counter.items() if v == max(counter.values())]\n",
        "\n",
        "# Interquartile Range\n",
        "q1 = sorted_data_part1[n // 4]\n",
        "q3 = sorted_data_part1[(3 * n) // 4]\n",
        "iqr = q3 - q1\n",
        "\n",
        "# Part 2\n",
        "data_part2 = [10, 15, 5, 12, 20]\n",
        "\n",
        "# Variance\n",
        "variance_part2 = sum((x - mean_part1) ** 2 for x in data_part2) / len(data_part2)\n",
        "\n",
        "# Linear Regression\n",
        "import numpy as np\n",
        "from sklearn.linear_model import LinearRegression\n",
        "\n",
        "x_values = np.array([0, 1, 2, 3, 4]).reshape(-1, 1)\n",
        "y_values = np.array([2, 3, 5, 4, 6]).reshape(-1, 1)\n",
        "\n",
        "model = LinearRegression().fit(x_values, y_values)\n",
        "slope = model.coef_[0][0]\n",
        "intercept = model.intercept_\n",
        "\n",
        "# Mean Absolute Error\n",
        "predicted_values = [slope * x + intercept for x in range(5)]\n",
        "mae = sum(abs(y - pred) for y, pred in zip(y_values, predicted_values)) / len(y_values)\n",
        "\n",
        "# Print the results\n",
        "print(\"Part 1:\")\n",
        "print(f\"Mean: {mean_part1}\")\n",
        "print(f\"Median: {median_part1}\")\n",
        "print(f\"Mode: {mode_part1}\")\n",
        "print(f\"Interquartile Range: {iqr}\")\n",
        "\n",
        "print(\"Part 2:\")\n",
        "print(f\"Variance: {variance_part2}\")\n",
        "print(f\"Linear Regression Equation: y = {slope}x + {intercept}\")\n",
        "print(f\"Mean Absolute Error: {mae}\")"
      ],
      "id": "00a4fa59",
      "execution_count": null,
      "outputs": []
    }
  ],
  "metadata": {
    "kernelspec": {
      "display_name": "Python 3",
      "language": "python",
      "name": "python3"
    }
  },
  "nbformat": 4,
  "nbformat_minor": 5
}